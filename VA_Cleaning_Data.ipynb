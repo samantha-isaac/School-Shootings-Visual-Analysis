{
  "nbformat": 4,
  "nbformat_minor": 0,
  "metadata": {
    "colab": {
      "provenance": [],
      "mount_file_id": "1P79xvtqnDJWtLVPqkEn2xOHjBIkF5EU8",
      "authorship_tag": "ABX9TyMYbO1+cFjbLk9gthgWLWtY",
      "include_colab_link": true
    },
    "kernelspec": {
      "name": "python3",
      "display_name": "Python 3"
    },
    "language_info": {
      "name": "python"
    }
  },
  "cells": [
    {
      "cell_type": "markdown",
      "metadata": {
        "id": "view-in-github",
        "colab_type": "text"
      },
      "source": [
        "<a href=\"https://colab.research.google.com/github/samantha-isaac/School-Shootings-Visual-Analysis/blob/main/VA_Cleaning_Data.ipynb\" target=\"_parent\"><img src=\"https://colab.research.google.com/assets/colab-badge.svg\" alt=\"Open In Colab\"/></a>"
      ]
    },
    {
      "cell_type": "code",
      "execution_count": null,
      "metadata": {
        "id": "jWqNfINjvGFF"
      },
      "outputs": [],
      "source": [
        "import pandas as pd\n",
        "import matplotlib.pyplot as plt\n",
        "import seaborn as sns\n",
        "import numpy as np"
      ]
    },
    {
      "cell_type": "code",
      "source": [
        "filename = '/content/drive/MyDrive/M.S. Data Science/Visual Analytics/Final Project/datasets/school-shootings-data.csv'\n",
        "df = pd.read_csv(filename)\n",
        "df.head()"
      ],
      "metadata": {
        "colab": {
          "base_uri": "https://localhost:8080/",
          "height": 359
        },
        "id": "UUXXKx2AvnGq",
        "outputId": "bb7e85f9-e03a-4b6b-8ff2-46681b02cac0"
      },
      "execution_count": null,
      "outputs": [
        {
          "output_type": "execute_result",
          "data": {
            "text/plain": [
              "   uid nces_school_id                  school_name  nces_district_id  \\\n",
              "0    1   080480000707        Columbine High School          804800.0   \n",
              "1    2   220054000422  Scotlandville Middle School         2200540.0   \n",
              "2    3   130441001591         Heritage High School         1304410.0   \n",
              "3    4   421899003847     John Bartram High School         4218990.0   \n",
              "4    5   250279000225       Dorchester High School         2502790.0   \n",
              "\n",
              "                          district_name       date school_year  year  \\\n",
              "0                  Jefferson County R-1  4/20/1999   1998-1999  1999   \n",
              "1  East Baton Rouge Parish School Board  4/22/1999   1998-1999  1999   \n",
              "2                       Rockdale County  5/20/1999   1998-1999  1999   \n",
              "3                  Philadelphia City SD  10/4/1999   1999-2000  1999   \n",
              "4                                Boston  11/3/1999   1999-2000  1999   \n",
              "\n",
              "       time day_of_week  ...        lat        long staffing low_grade  \\\n",
              "0  11:19 AM     Tuesday  ...  39.603910 -105.075000     89.6         9   \n",
              "1  12:30 PM    Thursday  ...  30.529958  -91.169966     39.0         6   \n",
              "2   8:03 AM    Thursday  ...  33.626922  -84.047960     84.0         9   \n",
              "3  10:00 AM      Monday  ...  39.921509  -75.234108     41.0         9   \n",
              "4   7:40 AM   Wednesday  ...  42.285268  -71.075901      NaN         9   \n",
              "\n",
              "   high_grade  lunch                   county state_fips  county_fips ulocale  \n",
              "0          12     41         Jefferson County          8         8059    21.0  \n",
              "1           8    495  East Baton Rouge Parish         22        22033    12.0  \n",
              "2          12    125          Rockdale County         13        13247    21.0  \n",
              "3          12   2007      Philadelphia County         42        42101    11.0  \n",
              "4          12    543           Suffolk County         25        25025    11.0  \n",
              "\n",
              "[5 rows x 50 columns]"
            ],
            "text/html": [
              "\n",
              "  <div id=\"df-0b069d05-638e-4aa2-957d-40b088c5182f\" class=\"colab-df-container\">\n",
              "    <div>\n",
              "<style scoped>\n",
              "    .dataframe tbody tr th:only-of-type {\n",
              "        vertical-align: middle;\n",
              "    }\n",
              "\n",
              "    .dataframe tbody tr th {\n",
              "        vertical-align: top;\n",
              "    }\n",
              "\n",
              "    .dataframe thead th {\n",
              "        text-align: right;\n",
              "    }\n",
              "</style>\n",
              "<table border=\"1\" class=\"dataframe\">\n",
              "  <thead>\n",
              "    <tr style=\"text-align: right;\">\n",
              "      <th></th>\n",
              "      <th>uid</th>\n",
              "      <th>nces_school_id</th>\n",
              "      <th>school_name</th>\n",
              "      <th>nces_district_id</th>\n",
              "      <th>district_name</th>\n",
              "      <th>date</th>\n",
              "      <th>school_year</th>\n",
              "      <th>year</th>\n",
              "      <th>time</th>\n",
              "      <th>day_of_week</th>\n",
              "      <th>...</th>\n",
              "      <th>lat</th>\n",
              "      <th>long</th>\n",
              "      <th>staffing</th>\n",
              "      <th>low_grade</th>\n",
              "      <th>high_grade</th>\n",
              "      <th>lunch</th>\n",
              "      <th>county</th>\n",
              "      <th>state_fips</th>\n",
              "      <th>county_fips</th>\n",
              "      <th>ulocale</th>\n",
              "    </tr>\n",
              "  </thead>\n",
              "  <tbody>\n",
              "    <tr>\n",
              "      <th>0</th>\n",
              "      <td>1</td>\n",
              "      <td>080480000707</td>\n",
              "      <td>Columbine High School</td>\n",
              "      <td>804800.0</td>\n",
              "      <td>Jefferson County R-1</td>\n",
              "      <td>4/20/1999</td>\n",
              "      <td>1998-1999</td>\n",
              "      <td>1999</td>\n",
              "      <td>11:19 AM</td>\n",
              "      <td>Tuesday</td>\n",
              "      <td>...</td>\n",
              "      <td>39.603910</td>\n",
              "      <td>-105.075000</td>\n",
              "      <td>89.6</td>\n",
              "      <td>9</td>\n",
              "      <td>12</td>\n",
              "      <td>41</td>\n",
              "      <td>Jefferson County</td>\n",
              "      <td>8</td>\n",
              "      <td>8059</td>\n",
              "      <td>21.0</td>\n",
              "    </tr>\n",
              "    <tr>\n",
              "      <th>1</th>\n",
              "      <td>2</td>\n",
              "      <td>220054000422</td>\n",
              "      <td>Scotlandville Middle School</td>\n",
              "      <td>2200540.0</td>\n",
              "      <td>East Baton Rouge Parish School Board</td>\n",
              "      <td>4/22/1999</td>\n",
              "      <td>1998-1999</td>\n",
              "      <td>1999</td>\n",
              "      <td>12:30 PM</td>\n",
              "      <td>Thursday</td>\n",
              "      <td>...</td>\n",
              "      <td>30.529958</td>\n",
              "      <td>-91.169966</td>\n",
              "      <td>39.0</td>\n",
              "      <td>6</td>\n",
              "      <td>8</td>\n",
              "      <td>495</td>\n",
              "      <td>East Baton Rouge Parish</td>\n",
              "      <td>22</td>\n",
              "      <td>22033</td>\n",
              "      <td>12.0</td>\n",
              "    </tr>\n",
              "    <tr>\n",
              "      <th>2</th>\n",
              "      <td>3</td>\n",
              "      <td>130441001591</td>\n",
              "      <td>Heritage High School</td>\n",
              "      <td>1304410.0</td>\n",
              "      <td>Rockdale County</td>\n",
              "      <td>5/20/1999</td>\n",
              "      <td>1998-1999</td>\n",
              "      <td>1999</td>\n",
              "      <td>8:03 AM</td>\n",
              "      <td>Thursday</td>\n",
              "      <td>...</td>\n",
              "      <td>33.626922</td>\n",
              "      <td>-84.047960</td>\n",
              "      <td>84.0</td>\n",
              "      <td>9</td>\n",
              "      <td>12</td>\n",
              "      <td>125</td>\n",
              "      <td>Rockdale County</td>\n",
              "      <td>13</td>\n",
              "      <td>13247</td>\n",
              "      <td>21.0</td>\n",
              "    </tr>\n",
              "    <tr>\n",
              "      <th>3</th>\n",
              "      <td>4</td>\n",
              "      <td>421899003847</td>\n",
              "      <td>John Bartram High School</td>\n",
              "      <td>4218990.0</td>\n",
              "      <td>Philadelphia City SD</td>\n",
              "      <td>10/4/1999</td>\n",
              "      <td>1999-2000</td>\n",
              "      <td>1999</td>\n",
              "      <td>10:00 AM</td>\n",
              "      <td>Monday</td>\n",
              "      <td>...</td>\n",
              "      <td>39.921509</td>\n",
              "      <td>-75.234108</td>\n",
              "      <td>41.0</td>\n",
              "      <td>9</td>\n",
              "      <td>12</td>\n",
              "      <td>2007</td>\n",
              "      <td>Philadelphia County</td>\n",
              "      <td>42</td>\n",
              "      <td>42101</td>\n",
              "      <td>11.0</td>\n",
              "    </tr>\n",
              "    <tr>\n",
              "      <th>4</th>\n",
              "      <td>5</td>\n",
              "      <td>250279000225</td>\n",
              "      <td>Dorchester High School</td>\n",
              "      <td>2502790.0</td>\n",
              "      <td>Boston</td>\n",
              "      <td>11/3/1999</td>\n",
              "      <td>1999-2000</td>\n",
              "      <td>1999</td>\n",
              "      <td>7:40 AM</td>\n",
              "      <td>Wednesday</td>\n",
              "      <td>...</td>\n",
              "      <td>42.285268</td>\n",
              "      <td>-71.075901</td>\n",
              "      <td>NaN</td>\n",
              "      <td>9</td>\n",
              "      <td>12</td>\n",
              "      <td>543</td>\n",
              "      <td>Suffolk County</td>\n",
              "      <td>25</td>\n",
              "      <td>25025</td>\n",
              "      <td>11.0</td>\n",
              "    </tr>\n",
              "  </tbody>\n",
              "</table>\n",
              "<p>5 rows × 50 columns</p>\n",
              "</div>\n",
              "    <div class=\"colab-df-buttons\">\n",
              "\n",
              "  <div class=\"colab-df-container\">\n",
              "    <button class=\"colab-df-convert\" onclick=\"convertToInteractive('df-0b069d05-638e-4aa2-957d-40b088c5182f')\"\n",
              "            title=\"Convert this dataframe to an interactive table.\"\n",
              "            style=\"display:none;\">\n",
              "\n",
              "  <svg xmlns=\"http://www.w3.org/2000/svg\" height=\"24px\" viewBox=\"0 -960 960 960\">\n",
              "    <path d=\"M120-120v-720h720v720H120Zm60-500h600v-160H180v160Zm220 220h160v-160H400v160Zm0 220h160v-160H400v160ZM180-400h160v-160H180v160Zm440 0h160v-160H620v160ZM180-180h160v-160H180v160Zm440 0h160v-160H620v160Z\"/>\n",
              "  </svg>\n",
              "    </button>\n",
              "\n",
              "  <style>\n",
              "    .colab-df-container {\n",
              "      display:flex;\n",
              "      gap: 12px;\n",
              "    }\n",
              "\n",
              "    .colab-df-convert {\n",
              "      background-color: #E8F0FE;\n",
              "      border: none;\n",
              "      border-radius: 50%;\n",
              "      cursor: pointer;\n",
              "      display: none;\n",
              "      fill: #1967D2;\n",
              "      height: 32px;\n",
              "      padding: 0 0 0 0;\n",
              "      width: 32px;\n",
              "    }\n",
              "\n",
              "    .colab-df-convert:hover {\n",
              "      background-color: #E2EBFA;\n",
              "      box-shadow: 0px 1px 2px rgba(60, 64, 67, 0.3), 0px 1px 3px 1px rgba(60, 64, 67, 0.15);\n",
              "      fill: #174EA6;\n",
              "    }\n",
              "\n",
              "    .colab-df-buttons div {\n",
              "      margin-bottom: 4px;\n",
              "    }\n",
              "\n",
              "    [theme=dark] .colab-df-convert {\n",
              "      background-color: #3B4455;\n",
              "      fill: #D2E3FC;\n",
              "    }\n",
              "\n",
              "    [theme=dark] .colab-df-convert:hover {\n",
              "      background-color: #434B5C;\n",
              "      box-shadow: 0px 1px 3px 1px rgba(0, 0, 0, 0.15);\n",
              "      filter: drop-shadow(0px 1px 2px rgba(0, 0, 0, 0.3));\n",
              "      fill: #FFFFFF;\n",
              "    }\n",
              "  </style>\n",
              "\n",
              "    <script>\n",
              "      const buttonEl =\n",
              "        document.querySelector('#df-0b069d05-638e-4aa2-957d-40b088c5182f button.colab-df-convert');\n",
              "      buttonEl.style.display =\n",
              "        google.colab.kernel.accessAllowed ? 'block' : 'none';\n",
              "\n",
              "      async function convertToInteractive(key) {\n",
              "        const element = document.querySelector('#df-0b069d05-638e-4aa2-957d-40b088c5182f');\n",
              "        const dataTable =\n",
              "          await google.colab.kernel.invokeFunction('convertToInteractive',\n",
              "                                                    [key], {});\n",
              "        if (!dataTable) return;\n",
              "\n",
              "        const docLinkHtml = 'Like what you see? Visit the ' +\n",
              "          '<a target=\"_blank\" href=https://colab.research.google.com/notebooks/data_table.ipynb>data table notebook</a>'\n",
              "          + ' to learn more about interactive tables.';\n",
              "        element.innerHTML = '';\n",
              "        dataTable['output_type'] = 'display_data';\n",
              "        await google.colab.output.renderOutput(dataTable, element);\n",
              "        const docLink = document.createElement('div');\n",
              "        docLink.innerHTML = docLinkHtml;\n",
              "        element.appendChild(docLink);\n",
              "      }\n",
              "    </script>\n",
              "  </div>\n",
              "\n",
              "\n",
              "<div id=\"df-8f46aebb-4be1-468f-98cb-d81f805fb7b2\">\n",
              "  <button class=\"colab-df-quickchart\" onclick=\"quickchart('df-8f46aebb-4be1-468f-98cb-d81f805fb7b2')\"\n",
              "            title=\"Suggest charts\"\n",
              "            style=\"display:none;\">\n",
              "\n",
              "<svg xmlns=\"http://www.w3.org/2000/svg\" height=\"24px\"viewBox=\"0 0 24 24\"\n",
              "     width=\"24px\">\n",
              "    <g>\n",
              "        <path d=\"M19 3H5c-1.1 0-2 .9-2 2v14c0 1.1.9 2 2 2h14c1.1 0 2-.9 2-2V5c0-1.1-.9-2-2-2zM9 17H7v-7h2v7zm4 0h-2V7h2v10zm4 0h-2v-4h2v4z\"/>\n",
              "    </g>\n",
              "</svg>\n",
              "  </button>\n",
              "\n",
              "<style>\n",
              "  .colab-df-quickchart {\n",
              "      --bg-color: #E8F0FE;\n",
              "      --fill-color: #1967D2;\n",
              "      --hover-bg-color: #E2EBFA;\n",
              "      --hover-fill-color: #174EA6;\n",
              "      --disabled-fill-color: #AAA;\n",
              "      --disabled-bg-color: #DDD;\n",
              "  }\n",
              "\n",
              "  [theme=dark] .colab-df-quickchart {\n",
              "      --bg-color: #3B4455;\n",
              "      --fill-color: #D2E3FC;\n",
              "      --hover-bg-color: #434B5C;\n",
              "      --hover-fill-color: #FFFFFF;\n",
              "      --disabled-bg-color: #3B4455;\n",
              "      --disabled-fill-color: #666;\n",
              "  }\n",
              "\n",
              "  .colab-df-quickchart {\n",
              "    background-color: var(--bg-color);\n",
              "    border: none;\n",
              "    border-radius: 50%;\n",
              "    cursor: pointer;\n",
              "    display: none;\n",
              "    fill: var(--fill-color);\n",
              "    height: 32px;\n",
              "    padding: 0;\n",
              "    width: 32px;\n",
              "  }\n",
              "\n",
              "  .colab-df-quickchart:hover {\n",
              "    background-color: var(--hover-bg-color);\n",
              "    box-shadow: 0 1px 2px rgba(60, 64, 67, 0.3), 0 1px 3px 1px rgba(60, 64, 67, 0.15);\n",
              "    fill: var(--button-hover-fill-color);\n",
              "  }\n",
              "\n",
              "  .colab-df-quickchart-complete:disabled,\n",
              "  .colab-df-quickchart-complete:disabled:hover {\n",
              "    background-color: var(--disabled-bg-color);\n",
              "    fill: var(--disabled-fill-color);\n",
              "    box-shadow: none;\n",
              "  }\n",
              "\n",
              "  .colab-df-spinner {\n",
              "    border: 2px solid var(--fill-color);\n",
              "    border-color: transparent;\n",
              "    border-bottom-color: var(--fill-color);\n",
              "    animation:\n",
              "      spin 1s steps(1) infinite;\n",
              "  }\n",
              "\n",
              "  @keyframes spin {\n",
              "    0% {\n",
              "      border-color: transparent;\n",
              "      border-bottom-color: var(--fill-color);\n",
              "      border-left-color: var(--fill-color);\n",
              "    }\n",
              "    20% {\n",
              "      border-color: transparent;\n",
              "      border-left-color: var(--fill-color);\n",
              "      border-top-color: var(--fill-color);\n",
              "    }\n",
              "    30% {\n",
              "      border-color: transparent;\n",
              "      border-left-color: var(--fill-color);\n",
              "      border-top-color: var(--fill-color);\n",
              "      border-right-color: var(--fill-color);\n",
              "    }\n",
              "    40% {\n",
              "      border-color: transparent;\n",
              "      border-right-color: var(--fill-color);\n",
              "      border-top-color: var(--fill-color);\n",
              "    }\n",
              "    60% {\n",
              "      border-color: transparent;\n",
              "      border-right-color: var(--fill-color);\n",
              "    }\n",
              "    80% {\n",
              "      border-color: transparent;\n",
              "      border-right-color: var(--fill-color);\n",
              "      border-bottom-color: var(--fill-color);\n",
              "    }\n",
              "    90% {\n",
              "      border-color: transparent;\n",
              "      border-bottom-color: var(--fill-color);\n",
              "    }\n",
              "  }\n",
              "</style>\n",
              "\n",
              "  <script>\n",
              "    async function quickchart(key) {\n",
              "      const quickchartButtonEl =\n",
              "        document.querySelector('#' + key + ' button');\n",
              "      quickchartButtonEl.disabled = true;  // To prevent multiple clicks.\n",
              "      quickchartButtonEl.classList.add('colab-df-spinner');\n",
              "      try {\n",
              "        const charts = await google.colab.kernel.invokeFunction(\n",
              "            'suggestCharts', [key], {});\n",
              "      } catch (error) {\n",
              "        console.error('Error during call to suggestCharts:', error);\n",
              "      }\n",
              "      quickchartButtonEl.classList.remove('colab-df-spinner');\n",
              "      quickchartButtonEl.classList.add('colab-df-quickchart-complete');\n",
              "    }\n",
              "    (() => {\n",
              "      let quickchartButtonEl =\n",
              "        document.querySelector('#df-8f46aebb-4be1-468f-98cb-d81f805fb7b2 button');\n",
              "      quickchartButtonEl.style.display =\n",
              "        google.colab.kernel.accessAllowed ? 'block' : 'none';\n",
              "    })();\n",
              "  </script>\n",
              "</div>\n",
              "    </div>\n",
              "  </div>\n"
            ]
          },
          "metadata": {},
          "execution_count": 2
        }
      ]
    },
    {
      "cell_type": "code",
      "source": [
        "df.info()"
      ],
      "metadata": {
        "colab": {
          "base_uri": "https://localhost:8080/"
        },
        "id": "d6RPsc_KvoUd",
        "outputId": "2be69a26-9c51-4d25-a812-7fd80a1f84a1"
      },
      "execution_count": null,
      "outputs": [
        {
          "output_type": "stream",
          "name": "stdout",
          "text": [
            "<class 'pandas.core.frame.DataFrame'>\n",
            "RangeIndex: 387 entries, 0 to 386\n",
            "Data columns (total 50 columns):\n",
            " #   Column                            Non-Null Count  Dtype  \n",
            "---  ------                            --------------  -----  \n",
            " 0   uid                               387 non-null    int64  \n",
            " 1   nces_school_id                    381 non-null    object \n",
            " 2   school_name                       387 non-null    object \n",
            " 3   nces_district_id                  363 non-null    float64\n",
            " 4   district_name                     362 non-null    object \n",
            " 5   date                              387 non-null    object \n",
            " 6   school_year                       387 non-null    object \n",
            " 7   year                              387 non-null    int64  \n",
            " 8   time                              363 non-null    object \n",
            " 9   day_of_week                       387 non-null    object \n",
            " 10  city                              387 non-null    object \n",
            " 11  state                             387 non-null    object \n",
            " 12  school_type                       387 non-null    object \n",
            " 13  enrollment                        387 non-null    object \n",
            " 14  killed                            387 non-null    int64  \n",
            " 15  injured                           387 non-null    int64  \n",
            " 16  casualties                        387 non-null    int64  \n",
            " 17  shooting_type                     387 non-null    object \n",
            " 18  age_shooter1                      274 non-null    float64\n",
            " 19  gender_shooter1                   309 non-null    object \n",
            " 20  race_ethnicity_shooter1           148 non-null    object \n",
            " 21  shooter_relationship1             266 non-null    object \n",
            " 22  shooter_deceased1                 262 non-null    float64\n",
            " 23  deceased_notes1                   38 non-null     object \n",
            " 24  age_shooter2                      12 non-null     float64\n",
            " 25  gender_shooter2                   12 non-null     object \n",
            " 26  race_ethnicity_shooter2           7 non-null      object \n",
            " 27  shooter_relationship2             6 non-null      object \n",
            " 28  shooter_deceased2                 6 non-null      float64\n",
            " 29  deceased_notes2                   1 non-null      object \n",
            " 30  white                             377 non-null    float64\n",
            " 31  black                             377 non-null    float64\n",
            " 32  hispanic                          377 non-null    object \n",
            " 33  asian                             377 non-null    float64\n",
            " 34  american_indian_alaska_native     376 non-null    float64\n",
            " 35  hawaiian_native_pacific_islander  262 non-null    float64\n",
            " 36  two_or_more                       262 non-null    float64\n",
            " 37  resource_officer                  387 non-null    int64  \n",
            " 38  weapon                            249 non-null    object \n",
            " 39  weapon_source                     105 non-null    object \n",
            " 40  lat                               386 non-null    float64\n",
            " 41  long                              386 non-null    float64\n",
            " 42  staffing                          363 non-null    float64\n",
            " 43  low_grade                         382 non-null    object \n",
            " 44  high_grade                        382 non-null    object \n",
            " 45  lunch                             337 non-null    object \n",
            " 46  county                            385 non-null    object \n",
            " 47  state_fips                        387 non-null    int64  \n",
            " 48  county_fips                       387 non-null    int64  \n",
            " 49  ulocale                           384 non-null    float64\n",
            "dtypes: float64(15), int64(8), object(27)\n",
            "memory usage: 151.3+ KB\n"
          ]
        }
      ]
    },
    {
      "cell_type": "code",
      "source": [
        "df.duplicated().sum()"
      ],
      "metadata": {
        "id": "nIIYeALUv1Li",
        "colab": {
          "base_uri": "https://localhost:8080/"
        },
        "outputId": "84efbd8c-683a-4b4b-f8b6-ad140167407c"
      },
      "execution_count": null,
      "outputs": [
        {
          "output_type": "execute_result",
          "data": {
            "text/plain": [
              "0"
            ]
          },
          "metadata": {},
          "execution_count": 4
        }
      ]
    },
    {
      "cell_type": "code",
      "source": [
        "datos_faltantes = df.isnull().sum().reset_index()\n",
        "datos_faltantes.columns = ['Columns', 'Missing values']\n",
        "datos_faltantes['Total Records'] = len(df)\n",
        "percentage_missingValues = (datos_faltantes['Missing values'] / len(df)) * 100\n",
        "datos_faltantes['Percentage of Missing Data'] = percentage_missingValues.round(2)\n",
        "\n",
        "datos_faltantes.sort_values(by = 'Missing values', ascending = False)"
      ],
      "metadata": {
        "colab": {
          "base_uri": "https://localhost:8080/",
          "height": 1000
        },
        "id": "5x4hvrDiMxZF",
        "outputId": "52f74e96-b7ad-46a2-a7e2-a2ef6de97c86"
      },
      "execution_count": null,
      "outputs": [
        {
          "output_type": "execute_result",
          "data": {
            "text/plain": [
              "                             Columns  Missing values  Total Records  \\\n",
              "29                   deceased_notes2             386            387   \n",
              "28                 shooter_deceased2             381            387   \n",
              "27             shooter_relationship2             381            387   \n",
              "26           race_ethnicity_shooter2             380            387   \n",
              "24                      age_shooter2             375            387   \n",
              "25                   gender_shooter2             375            387   \n",
              "23                   deceased_notes1             349            387   \n",
              "39                     weapon_source             282            387   \n",
              "20           race_ethnicity_shooter1             239            387   \n",
              "38                            weapon             138            387   \n",
              "22                 shooter_deceased1             125            387   \n",
              "36                       two_or_more             125            387   \n",
              "35  hawaiian_native_pacific_islander             125            387   \n",
              "21             shooter_relationship1             121            387   \n",
              "18                      age_shooter1             113            387   \n",
              "19                   gender_shooter1              78            387   \n",
              "45                             lunch              50            387   \n",
              "4                      district_name              25            387   \n",
              "42                          staffing              24            387   \n",
              "3                   nces_district_id              24            387   \n",
              "8                               time              24            387   \n",
              "34     american_indian_alaska_native              11            387   \n",
              "30                             white              10            387   \n",
              "33                             asian              10            387   \n",
              "31                             black              10            387   \n",
              "32                          hispanic              10            387   \n",
              "1                     nces_school_id               6            387   \n",
              "44                        high_grade               5            387   \n",
              "43                         low_grade               5            387   \n",
              "49                           ulocale               3            387   \n",
              "46                            county               2            387   \n",
              "40                               lat               1            387   \n",
              "41                              long               1            387   \n",
              "16                        casualties               0            387   \n",
              "48                       county_fips               0            387   \n",
              "47                        state_fips               0            387   \n",
              "2                        school_name               0            387   \n",
              "5                               date               0            387   \n",
              "6                        school_year               0            387   \n",
              "7                               year               0            387   \n",
              "17                     shooting_type               0            387   \n",
              "9                        day_of_week               0            387   \n",
              "10                              city               0            387   \n",
              "37                  resource_officer               0            387   \n",
              "11                             state               0            387   \n",
              "12                       school_type               0            387   \n",
              "13                        enrollment               0            387   \n",
              "14                            killed               0            387   \n",
              "15                           injured               0            387   \n",
              "0                                uid               0            387   \n",
              "\n",
              "    Percentage of Missing Data  \n",
              "29                       99.74  \n",
              "28                       98.45  \n",
              "27                       98.45  \n",
              "26                       98.19  \n",
              "24                       96.90  \n",
              "25                       96.90  \n",
              "23                       90.18  \n",
              "39                       72.87  \n",
              "20                       61.76  \n",
              "38                       35.66  \n",
              "22                       32.30  \n",
              "36                       32.30  \n",
              "35                       32.30  \n",
              "21                       31.27  \n",
              "18                       29.20  \n",
              "19                       20.16  \n",
              "45                       12.92  \n",
              "4                         6.46  \n",
              "42                        6.20  \n",
              "3                         6.20  \n",
              "8                         6.20  \n",
              "34                        2.84  \n",
              "30                        2.58  \n",
              "33                        2.58  \n",
              "31                        2.58  \n",
              "32                        2.58  \n",
              "1                         1.55  \n",
              "44                        1.29  \n",
              "43                        1.29  \n",
              "49                        0.78  \n",
              "46                        0.52  \n",
              "40                        0.26  \n",
              "41                        0.26  \n",
              "16                        0.00  \n",
              "48                        0.00  \n",
              "47                        0.00  \n",
              "2                         0.00  \n",
              "5                         0.00  \n",
              "6                         0.00  \n",
              "7                         0.00  \n",
              "17                        0.00  \n",
              "9                         0.00  \n",
              "10                        0.00  \n",
              "37                        0.00  \n",
              "11                        0.00  \n",
              "12                        0.00  \n",
              "13                        0.00  \n",
              "14                        0.00  \n",
              "15                        0.00  \n",
              "0                         0.00  "
            ],
            "text/html": [
              "\n",
              "  <div id=\"df-0d8dfcea-90c7-43ab-b9f4-f488441b8092\" class=\"colab-df-container\">\n",
              "    <div>\n",
              "<style scoped>\n",
              "    .dataframe tbody tr th:only-of-type {\n",
              "        vertical-align: middle;\n",
              "    }\n",
              "\n",
              "    .dataframe tbody tr th {\n",
              "        vertical-align: top;\n",
              "    }\n",
              "\n",
              "    .dataframe thead th {\n",
              "        text-align: right;\n",
              "    }\n",
              "</style>\n",
              "<table border=\"1\" class=\"dataframe\">\n",
              "  <thead>\n",
              "    <tr style=\"text-align: right;\">\n",
              "      <th></th>\n",
              "      <th>Columns</th>\n",
              "      <th>Missing values</th>\n",
              "      <th>Total Records</th>\n",
              "      <th>Percentage of Missing Data</th>\n",
              "    </tr>\n",
              "  </thead>\n",
              "  <tbody>\n",
              "    <tr>\n",
              "      <th>29</th>\n",
              "      <td>deceased_notes2</td>\n",
              "      <td>386</td>\n",
              "      <td>387</td>\n",
              "      <td>99.74</td>\n",
              "    </tr>\n",
              "    <tr>\n",
              "      <th>28</th>\n",
              "      <td>shooter_deceased2</td>\n",
              "      <td>381</td>\n",
              "      <td>387</td>\n",
              "      <td>98.45</td>\n",
              "    </tr>\n",
              "    <tr>\n",
              "      <th>27</th>\n",
              "      <td>shooter_relationship2</td>\n",
              "      <td>381</td>\n",
              "      <td>387</td>\n",
              "      <td>98.45</td>\n",
              "    </tr>\n",
              "    <tr>\n",
              "      <th>26</th>\n",
              "      <td>race_ethnicity_shooter2</td>\n",
              "      <td>380</td>\n",
              "      <td>387</td>\n",
              "      <td>98.19</td>\n",
              "    </tr>\n",
              "    <tr>\n",
              "      <th>24</th>\n",
              "      <td>age_shooter2</td>\n",
              "      <td>375</td>\n",
              "      <td>387</td>\n",
              "      <td>96.90</td>\n",
              "    </tr>\n",
              "    <tr>\n",
              "      <th>25</th>\n",
              "      <td>gender_shooter2</td>\n",
              "      <td>375</td>\n",
              "      <td>387</td>\n",
              "      <td>96.90</td>\n",
              "    </tr>\n",
              "    <tr>\n",
              "      <th>23</th>\n",
              "      <td>deceased_notes1</td>\n",
              "      <td>349</td>\n",
              "      <td>387</td>\n",
              "      <td>90.18</td>\n",
              "    </tr>\n",
              "    <tr>\n",
              "      <th>39</th>\n",
              "      <td>weapon_source</td>\n",
              "      <td>282</td>\n",
              "      <td>387</td>\n",
              "      <td>72.87</td>\n",
              "    </tr>\n",
              "    <tr>\n",
              "      <th>20</th>\n",
              "      <td>race_ethnicity_shooter1</td>\n",
              "      <td>239</td>\n",
              "      <td>387</td>\n",
              "      <td>61.76</td>\n",
              "    </tr>\n",
              "    <tr>\n",
              "      <th>38</th>\n",
              "      <td>weapon</td>\n",
              "      <td>138</td>\n",
              "      <td>387</td>\n",
              "      <td>35.66</td>\n",
              "    </tr>\n",
              "    <tr>\n",
              "      <th>22</th>\n",
              "      <td>shooter_deceased1</td>\n",
              "      <td>125</td>\n",
              "      <td>387</td>\n",
              "      <td>32.30</td>\n",
              "    </tr>\n",
              "    <tr>\n",
              "      <th>36</th>\n",
              "      <td>two_or_more</td>\n",
              "      <td>125</td>\n",
              "      <td>387</td>\n",
              "      <td>32.30</td>\n",
              "    </tr>\n",
              "    <tr>\n",
              "      <th>35</th>\n",
              "      <td>hawaiian_native_pacific_islander</td>\n",
              "      <td>125</td>\n",
              "      <td>387</td>\n",
              "      <td>32.30</td>\n",
              "    </tr>\n",
              "    <tr>\n",
              "      <th>21</th>\n",
              "      <td>shooter_relationship1</td>\n",
              "      <td>121</td>\n",
              "      <td>387</td>\n",
              "      <td>31.27</td>\n",
              "    </tr>\n",
              "    <tr>\n",
              "      <th>18</th>\n",
              "      <td>age_shooter1</td>\n",
              "      <td>113</td>\n",
              "      <td>387</td>\n",
              "      <td>29.20</td>\n",
              "    </tr>\n",
              "    <tr>\n",
              "      <th>19</th>\n",
              "      <td>gender_shooter1</td>\n",
              "      <td>78</td>\n",
              "      <td>387</td>\n",
              "      <td>20.16</td>\n",
              "    </tr>\n",
              "    <tr>\n",
              "      <th>45</th>\n",
              "      <td>lunch</td>\n",
              "      <td>50</td>\n",
              "      <td>387</td>\n",
              "      <td>12.92</td>\n",
              "    </tr>\n",
              "    <tr>\n",
              "      <th>4</th>\n",
              "      <td>district_name</td>\n",
              "      <td>25</td>\n",
              "      <td>387</td>\n",
              "      <td>6.46</td>\n",
              "    </tr>\n",
              "    <tr>\n",
              "      <th>42</th>\n",
              "      <td>staffing</td>\n",
              "      <td>24</td>\n",
              "      <td>387</td>\n",
              "      <td>6.20</td>\n",
              "    </tr>\n",
              "    <tr>\n",
              "      <th>3</th>\n",
              "      <td>nces_district_id</td>\n",
              "      <td>24</td>\n",
              "      <td>387</td>\n",
              "      <td>6.20</td>\n",
              "    </tr>\n",
              "    <tr>\n",
              "      <th>8</th>\n",
              "      <td>time</td>\n",
              "      <td>24</td>\n",
              "      <td>387</td>\n",
              "      <td>6.20</td>\n",
              "    </tr>\n",
              "    <tr>\n",
              "      <th>34</th>\n",
              "      <td>american_indian_alaska_native</td>\n",
              "      <td>11</td>\n",
              "      <td>387</td>\n",
              "      <td>2.84</td>\n",
              "    </tr>\n",
              "    <tr>\n",
              "      <th>30</th>\n",
              "      <td>white</td>\n",
              "      <td>10</td>\n",
              "      <td>387</td>\n",
              "      <td>2.58</td>\n",
              "    </tr>\n",
              "    <tr>\n",
              "      <th>33</th>\n",
              "      <td>asian</td>\n",
              "      <td>10</td>\n",
              "      <td>387</td>\n",
              "      <td>2.58</td>\n",
              "    </tr>\n",
              "    <tr>\n",
              "      <th>31</th>\n",
              "      <td>black</td>\n",
              "      <td>10</td>\n",
              "      <td>387</td>\n",
              "      <td>2.58</td>\n",
              "    </tr>\n",
              "    <tr>\n",
              "      <th>32</th>\n",
              "      <td>hispanic</td>\n",
              "      <td>10</td>\n",
              "      <td>387</td>\n",
              "      <td>2.58</td>\n",
              "    </tr>\n",
              "    <tr>\n",
              "      <th>1</th>\n",
              "      <td>nces_school_id</td>\n",
              "      <td>6</td>\n",
              "      <td>387</td>\n",
              "      <td>1.55</td>\n",
              "    </tr>\n",
              "    <tr>\n",
              "      <th>44</th>\n",
              "      <td>high_grade</td>\n",
              "      <td>5</td>\n",
              "      <td>387</td>\n",
              "      <td>1.29</td>\n",
              "    </tr>\n",
              "    <tr>\n",
              "      <th>43</th>\n",
              "      <td>low_grade</td>\n",
              "      <td>5</td>\n",
              "      <td>387</td>\n",
              "      <td>1.29</td>\n",
              "    </tr>\n",
              "    <tr>\n",
              "      <th>49</th>\n",
              "      <td>ulocale</td>\n",
              "      <td>3</td>\n",
              "      <td>387</td>\n",
              "      <td>0.78</td>\n",
              "    </tr>\n",
              "    <tr>\n",
              "      <th>46</th>\n",
              "      <td>county</td>\n",
              "      <td>2</td>\n",
              "      <td>387</td>\n",
              "      <td>0.52</td>\n",
              "    </tr>\n",
              "    <tr>\n",
              "      <th>40</th>\n",
              "      <td>lat</td>\n",
              "      <td>1</td>\n",
              "      <td>387</td>\n",
              "      <td>0.26</td>\n",
              "    </tr>\n",
              "    <tr>\n",
              "      <th>41</th>\n",
              "      <td>long</td>\n",
              "      <td>1</td>\n",
              "      <td>387</td>\n",
              "      <td>0.26</td>\n",
              "    </tr>\n",
              "    <tr>\n",
              "      <th>16</th>\n",
              "      <td>casualties</td>\n",
              "      <td>0</td>\n",
              "      <td>387</td>\n",
              "      <td>0.00</td>\n",
              "    </tr>\n",
              "    <tr>\n",
              "      <th>48</th>\n",
              "      <td>county_fips</td>\n",
              "      <td>0</td>\n",
              "      <td>387</td>\n",
              "      <td>0.00</td>\n",
              "    </tr>\n",
              "    <tr>\n",
              "      <th>47</th>\n",
              "      <td>state_fips</td>\n",
              "      <td>0</td>\n",
              "      <td>387</td>\n",
              "      <td>0.00</td>\n",
              "    </tr>\n",
              "    <tr>\n",
              "      <th>2</th>\n",
              "      <td>school_name</td>\n",
              "      <td>0</td>\n",
              "      <td>387</td>\n",
              "      <td>0.00</td>\n",
              "    </tr>\n",
              "    <tr>\n",
              "      <th>5</th>\n",
              "      <td>date</td>\n",
              "      <td>0</td>\n",
              "      <td>387</td>\n",
              "      <td>0.00</td>\n",
              "    </tr>\n",
              "    <tr>\n",
              "      <th>6</th>\n",
              "      <td>school_year</td>\n",
              "      <td>0</td>\n",
              "      <td>387</td>\n",
              "      <td>0.00</td>\n",
              "    </tr>\n",
              "    <tr>\n",
              "      <th>7</th>\n",
              "      <td>year</td>\n",
              "      <td>0</td>\n",
              "      <td>387</td>\n",
              "      <td>0.00</td>\n",
              "    </tr>\n",
              "    <tr>\n",
              "      <th>17</th>\n",
              "      <td>shooting_type</td>\n",
              "      <td>0</td>\n",
              "      <td>387</td>\n",
              "      <td>0.00</td>\n",
              "    </tr>\n",
              "    <tr>\n",
              "      <th>9</th>\n",
              "      <td>day_of_week</td>\n",
              "      <td>0</td>\n",
              "      <td>387</td>\n",
              "      <td>0.00</td>\n",
              "    </tr>\n",
              "    <tr>\n",
              "      <th>10</th>\n",
              "      <td>city</td>\n",
              "      <td>0</td>\n",
              "      <td>387</td>\n",
              "      <td>0.00</td>\n",
              "    </tr>\n",
              "    <tr>\n",
              "      <th>37</th>\n",
              "      <td>resource_officer</td>\n",
              "      <td>0</td>\n",
              "      <td>387</td>\n",
              "      <td>0.00</td>\n",
              "    </tr>\n",
              "    <tr>\n",
              "      <th>11</th>\n",
              "      <td>state</td>\n",
              "      <td>0</td>\n",
              "      <td>387</td>\n",
              "      <td>0.00</td>\n",
              "    </tr>\n",
              "    <tr>\n",
              "      <th>12</th>\n",
              "      <td>school_type</td>\n",
              "      <td>0</td>\n",
              "      <td>387</td>\n",
              "      <td>0.00</td>\n",
              "    </tr>\n",
              "    <tr>\n",
              "      <th>13</th>\n",
              "      <td>enrollment</td>\n",
              "      <td>0</td>\n",
              "      <td>387</td>\n",
              "      <td>0.00</td>\n",
              "    </tr>\n",
              "    <tr>\n",
              "      <th>14</th>\n",
              "      <td>killed</td>\n",
              "      <td>0</td>\n",
              "      <td>387</td>\n",
              "      <td>0.00</td>\n",
              "    </tr>\n",
              "    <tr>\n",
              "      <th>15</th>\n",
              "      <td>injured</td>\n",
              "      <td>0</td>\n",
              "      <td>387</td>\n",
              "      <td>0.00</td>\n",
              "    </tr>\n",
              "    <tr>\n",
              "      <th>0</th>\n",
              "      <td>uid</td>\n",
              "      <td>0</td>\n",
              "      <td>387</td>\n",
              "      <td>0.00</td>\n",
              "    </tr>\n",
              "  </tbody>\n",
              "</table>\n",
              "</div>\n",
              "    <div class=\"colab-df-buttons\">\n",
              "\n",
              "  <div class=\"colab-df-container\">\n",
              "    <button class=\"colab-df-convert\" onclick=\"convertToInteractive('df-0d8dfcea-90c7-43ab-b9f4-f488441b8092')\"\n",
              "            title=\"Convert this dataframe to an interactive table.\"\n",
              "            style=\"display:none;\">\n",
              "\n",
              "  <svg xmlns=\"http://www.w3.org/2000/svg\" height=\"24px\" viewBox=\"0 -960 960 960\">\n",
              "    <path d=\"M120-120v-720h720v720H120Zm60-500h600v-160H180v160Zm220 220h160v-160H400v160Zm0 220h160v-160H400v160ZM180-400h160v-160H180v160Zm440 0h160v-160H620v160ZM180-180h160v-160H180v160Zm440 0h160v-160H620v160Z\"/>\n",
              "  </svg>\n",
              "    </button>\n",
              "\n",
              "  <style>\n",
              "    .colab-df-container {\n",
              "      display:flex;\n",
              "      gap: 12px;\n",
              "    }\n",
              "\n",
              "    .colab-df-convert {\n",
              "      background-color: #E8F0FE;\n",
              "      border: none;\n",
              "      border-radius: 50%;\n",
              "      cursor: pointer;\n",
              "      display: none;\n",
              "      fill: #1967D2;\n",
              "      height: 32px;\n",
              "      padding: 0 0 0 0;\n",
              "      width: 32px;\n",
              "    }\n",
              "\n",
              "    .colab-df-convert:hover {\n",
              "      background-color: #E2EBFA;\n",
              "      box-shadow: 0px 1px 2px rgba(60, 64, 67, 0.3), 0px 1px 3px 1px rgba(60, 64, 67, 0.15);\n",
              "      fill: #174EA6;\n",
              "    }\n",
              "\n",
              "    .colab-df-buttons div {\n",
              "      margin-bottom: 4px;\n",
              "    }\n",
              "\n",
              "    [theme=dark] .colab-df-convert {\n",
              "      background-color: #3B4455;\n",
              "      fill: #D2E3FC;\n",
              "    }\n",
              "\n",
              "    [theme=dark] .colab-df-convert:hover {\n",
              "      background-color: #434B5C;\n",
              "      box-shadow: 0px 1px 3px 1px rgba(0, 0, 0, 0.15);\n",
              "      filter: drop-shadow(0px 1px 2px rgba(0, 0, 0, 0.3));\n",
              "      fill: #FFFFFF;\n",
              "    }\n",
              "  </style>\n",
              "\n",
              "    <script>\n",
              "      const buttonEl =\n",
              "        document.querySelector('#df-0d8dfcea-90c7-43ab-b9f4-f488441b8092 button.colab-df-convert');\n",
              "      buttonEl.style.display =\n",
              "        google.colab.kernel.accessAllowed ? 'block' : 'none';\n",
              "\n",
              "      async function convertToInteractive(key) {\n",
              "        const element = document.querySelector('#df-0d8dfcea-90c7-43ab-b9f4-f488441b8092');\n",
              "        const dataTable =\n",
              "          await google.colab.kernel.invokeFunction('convertToInteractive',\n",
              "                                                    [key], {});\n",
              "        if (!dataTable) return;\n",
              "\n",
              "        const docLinkHtml = 'Like what you see? Visit the ' +\n",
              "          '<a target=\"_blank\" href=https://colab.research.google.com/notebooks/data_table.ipynb>data table notebook</a>'\n",
              "          + ' to learn more about interactive tables.';\n",
              "        element.innerHTML = '';\n",
              "        dataTable['output_type'] = 'display_data';\n",
              "        await google.colab.output.renderOutput(dataTable, element);\n",
              "        const docLink = document.createElement('div');\n",
              "        docLink.innerHTML = docLinkHtml;\n",
              "        element.appendChild(docLink);\n",
              "      }\n",
              "    </script>\n",
              "  </div>\n",
              "\n",
              "\n",
              "<div id=\"df-20520d56-e6e7-496b-94cf-3e03524552f7\">\n",
              "  <button class=\"colab-df-quickchart\" onclick=\"quickchart('df-20520d56-e6e7-496b-94cf-3e03524552f7')\"\n",
              "            title=\"Suggest charts\"\n",
              "            style=\"display:none;\">\n",
              "\n",
              "<svg xmlns=\"http://www.w3.org/2000/svg\" height=\"24px\"viewBox=\"0 0 24 24\"\n",
              "     width=\"24px\">\n",
              "    <g>\n",
              "        <path d=\"M19 3H5c-1.1 0-2 .9-2 2v14c0 1.1.9 2 2 2h14c1.1 0 2-.9 2-2V5c0-1.1-.9-2-2-2zM9 17H7v-7h2v7zm4 0h-2V7h2v10zm4 0h-2v-4h2v4z\"/>\n",
              "    </g>\n",
              "</svg>\n",
              "  </button>\n",
              "\n",
              "<style>\n",
              "  .colab-df-quickchart {\n",
              "      --bg-color: #E8F0FE;\n",
              "      --fill-color: #1967D2;\n",
              "      --hover-bg-color: #E2EBFA;\n",
              "      --hover-fill-color: #174EA6;\n",
              "      --disabled-fill-color: #AAA;\n",
              "      --disabled-bg-color: #DDD;\n",
              "  }\n",
              "\n",
              "  [theme=dark] .colab-df-quickchart {\n",
              "      --bg-color: #3B4455;\n",
              "      --fill-color: #D2E3FC;\n",
              "      --hover-bg-color: #434B5C;\n",
              "      --hover-fill-color: #FFFFFF;\n",
              "      --disabled-bg-color: #3B4455;\n",
              "      --disabled-fill-color: #666;\n",
              "  }\n",
              "\n",
              "  .colab-df-quickchart {\n",
              "    background-color: var(--bg-color);\n",
              "    border: none;\n",
              "    border-radius: 50%;\n",
              "    cursor: pointer;\n",
              "    display: none;\n",
              "    fill: var(--fill-color);\n",
              "    height: 32px;\n",
              "    padding: 0;\n",
              "    width: 32px;\n",
              "  }\n",
              "\n",
              "  .colab-df-quickchart:hover {\n",
              "    background-color: var(--hover-bg-color);\n",
              "    box-shadow: 0 1px 2px rgba(60, 64, 67, 0.3), 0 1px 3px 1px rgba(60, 64, 67, 0.15);\n",
              "    fill: var(--button-hover-fill-color);\n",
              "  }\n",
              "\n",
              "  .colab-df-quickchart-complete:disabled,\n",
              "  .colab-df-quickchart-complete:disabled:hover {\n",
              "    background-color: var(--disabled-bg-color);\n",
              "    fill: var(--disabled-fill-color);\n",
              "    box-shadow: none;\n",
              "  }\n",
              "\n",
              "  .colab-df-spinner {\n",
              "    border: 2px solid var(--fill-color);\n",
              "    border-color: transparent;\n",
              "    border-bottom-color: var(--fill-color);\n",
              "    animation:\n",
              "      spin 1s steps(1) infinite;\n",
              "  }\n",
              "\n",
              "  @keyframes spin {\n",
              "    0% {\n",
              "      border-color: transparent;\n",
              "      border-bottom-color: var(--fill-color);\n",
              "      border-left-color: var(--fill-color);\n",
              "    }\n",
              "    20% {\n",
              "      border-color: transparent;\n",
              "      border-left-color: var(--fill-color);\n",
              "      border-top-color: var(--fill-color);\n",
              "    }\n",
              "    30% {\n",
              "      border-color: transparent;\n",
              "      border-left-color: var(--fill-color);\n",
              "      border-top-color: var(--fill-color);\n",
              "      border-right-color: var(--fill-color);\n",
              "    }\n",
              "    40% {\n",
              "      border-color: transparent;\n",
              "      border-right-color: var(--fill-color);\n",
              "      border-top-color: var(--fill-color);\n",
              "    }\n",
              "    60% {\n",
              "      border-color: transparent;\n",
              "      border-right-color: var(--fill-color);\n",
              "    }\n",
              "    80% {\n",
              "      border-color: transparent;\n",
              "      border-right-color: var(--fill-color);\n",
              "      border-bottom-color: var(--fill-color);\n",
              "    }\n",
              "    90% {\n",
              "      border-color: transparent;\n",
              "      border-bottom-color: var(--fill-color);\n",
              "    }\n",
              "  }\n",
              "</style>\n",
              "\n",
              "  <script>\n",
              "    async function quickchart(key) {\n",
              "      const quickchartButtonEl =\n",
              "        document.querySelector('#' + key + ' button');\n",
              "      quickchartButtonEl.disabled = true;  // To prevent multiple clicks.\n",
              "      quickchartButtonEl.classList.add('colab-df-spinner');\n",
              "      try {\n",
              "        const charts = await google.colab.kernel.invokeFunction(\n",
              "            'suggestCharts', [key], {});\n",
              "      } catch (error) {\n",
              "        console.error('Error during call to suggestCharts:', error);\n",
              "      }\n",
              "      quickchartButtonEl.classList.remove('colab-df-spinner');\n",
              "      quickchartButtonEl.classList.add('colab-df-quickchart-complete');\n",
              "    }\n",
              "    (() => {\n",
              "      let quickchartButtonEl =\n",
              "        document.querySelector('#df-20520d56-e6e7-496b-94cf-3e03524552f7 button');\n",
              "      quickchartButtonEl.style.display =\n",
              "        google.colab.kernel.accessAllowed ? 'block' : 'none';\n",
              "    })();\n",
              "  </script>\n",
              "</div>\n",
              "    </div>\n",
              "  </div>\n"
            ]
          },
          "metadata": {},
          "execution_count": 5
        }
      ]
    },
    {
      "cell_type": "code",
      "source": [
        "plt.figure(figsize=(20, 10))\n",
        "# Creando el mapa de calor utilizando seaborn\n",
        "sns.heatmap(df.isnull(), cbar=False, cmap='viridis')\n",
        "# Ajustando la rotación de las etiquetas del eje x para mejorar la legibilidad\n",
        "plt.xticks(rotation=90, fontsize=8)\n",
        "plt.yticks(fontsize=8)  # Ajustar el tamaño de la fuente de las etiquetas del eje y\n",
        "plt.title('Missing Values Heat Map', fontsize=14)\n",
        "plt.show();"
      ],
      "metadata": {
        "colab": {
          "base_uri": "https://localhost:8080/",
          "height": 750
        },
        "id": "SFeIZmrq8fI-",
        "outputId": "44dfd247-ecf4-413f-e82e-72c7dfd11c8d"
      },
      "execution_count": null,
      "outputs": [
        {
          "output_type": "display_data",
          "data": {
            "text/plain": [
              "<Figure size 2000x1000 with 1 Axes>"
            ],
            "image/png": "[encoded data removed]"
          },
          "metadata": {}
        }
      ]
    },
    {
      "cell_type": "markdown",
      "source": [
        "Eliminar las columnas del segundo shooter"
      ],
      "metadata": {
        "id": "mVtsbDi3up-r"
      }
    },
    {
      "cell_type": "code",
      "source": [
        "# Creando la nueva columna \"presence_second_shooter\" basada en las columnas especificadas\n",
        "columns_to_check = ['age_shooter2', 'gender_shooter2', 'race_ethnicity_shooter2',\n",
        "                    'shooter_relationship2', 'shooter_deceased2', 'deceased_notes2']\n",
        "\n",
        "# Si alguna de las columnas tiene un valor no nulo, entonces marcamos como 1, de lo contrario 0\n",
        "df['presence_second_shooter'] = df[columns_to_check].notnull().any(axis=1).astype(int)\n",
        "\n",
        "# Verificando la creación de la columna\n",
        "df[['presence_second_shooter'] + columns_to_check].head()\n",
        "\n",
        "# Eliminar las columnas\n",
        "df.drop(columns=columns_to_check, inplace=True)"
      ],
      "metadata": {
        "id": "0wqsxiMhxQu_"
      },
      "execution_count": null,
      "outputs": []
    },
    {
      "cell_type": "code",
      "source": [
        "df['presence_second_shooter'].value_counts()"
      ],
      "metadata": {
        "colab": {
          "base_uri": "https://localhost:8080/"
        },
        "id": "lQnzk6QzupVT",
        "outputId": "594a704f-7741-4ff7-d513-23d28e1bfc2c"
      },
      "execution_count": null,
      "outputs": [
        {
          "output_type": "execute_result",
          "data": {
            "text/plain": [
              "0    375\n",
              "1     12\n",
              "Name: presence_second_shooter, dtype: int64"
            ]
          },
          "metadata": {},
          "execution_count": 8
        }
      ]
    },
    {
      "cell_type": "code",
      "source": [
        "columns_to_delete = ['uid', 'nces_school_id', 'nces_district_id', 'deceased_notes1',\n",
        "                     'white', 'black', 'hispanic', 'asian', 'american_indian_alaska_native',\n",
        "                     'hawaiian_native_pacific_islander', 'two_or_more', 'state_fips', 'county_fips']\n",
        "\n",
        "df.drop(columns = columns_to_delete, inplace = True)"
      ],
      "metadata": {
        "id": "4DHvQOjOu61m"
      },
      "execution_count": null,
      "outputs": []
    },
    {
      "cell_type": "code",
      "source": [
        "df.info()"
      ],
      "metadata": {
        "colab": {
          "base_uri": "https://localhost:8080/"
        },
        "id": "WLeX-zsTsp9t",
        "outputId": "b44e8a23-1075-4fdc-b411-ce7d4dd6d40f"
      },
      "execution_count": null,
      "outputs": [
        {
          "output_type": "stream",
          "name": "stdout",
          "text": [
            "<class 'pandas.core.frame.DataFrame'>\n",
            "RangeIndex: 387 entries, 0 to 386\n",
            "Data columns (total 32 columns):\n",
            " #   Column                   Non-Null Count  Dtype  \n",
            "---  ------                   --------------  -----  \n",
            " 0   school_name              387 non-null    object \n",
            " 1   district_name            362 non-null    object \n",
            " 2   date                     387 non-null    object \n",
            " 3   school_year              387 non-null    object \n",
            " 4   year                     387 non-null    int64  \n",
            " 5   time                     363 non-null    object \n",
            " 6   day_of_week              387 non-null    object \n",
            " 7   city                     387 non-null    object \n",
            " 8   state                    387 non-null    object \n",
            " 9   school_type              387 non-null    object \n",
            " 10  enrollment               387 non-null    object \n",
            " 11  killed                   387 non-null    int64  \n",
            " 12  injured                  387 non-null    int64  \n",
            " 13  casualties               387 non-null    int64  \n",
            " 14  shooting_type            387 non-null    object \n",
            " 15  age_shooter1             274 non-null    float64\n",
            " 16  gender_shooter1          309 non-null    object \n",
            " 17  race_ethnicity_shooter1  148 non-null    object \n",
            " 18  shooter_relationship1    266 non-null    object \n",
            " 19  shooter_deceased1        262 non-null    float64\n",
            " 20  resource_officer         387 non-null    int64  \n",
            " 21  weapon                   249 non-null    object \n",
            " 22  weapon_source            105 non-null    object \n",
            " 23  lat                      386 non-null    float64\n",
            " 24  long                     386 non-null    float64\n",
            " 25  staffing                 363 non-null    float64\n",
            " 26  low_grade                382 non-null    object \n",
            " 27  high_grade               382 non-null    object \n",
            " 28  lunch                    337 non-null    object \n",
            " 29  county                   385 non-null    object \n",
            " 30  ulocale                  384 non-null    float64\n",
            " 31  presence_second_shooter  387 non-null    int64  \n",
            "dtypes: float64(6), int64(6), object(20)\n",
            "memory usage: 96.9+ KB\n"
          ]
        }
      ]
    },
    {
      "cell_type": "markdown",
      "source": [
        "Asignando valor 'Unknown' a columnas categoricas importantes"
      ],
      "metadata": {
        "id": "BKvuFrcC26B_"
      }
    },
    {
      "cell_type": "code",
      "source": [
        "# Asignando la etiqueta 'Desconocido' a los valores nulos en las columnas con una alta cantidad de valores nulos\n",
        "columns_to_replace = ['weapon_source', 'race_ethnicity_shooter1', 'weapon', 'shooter_relationship1', 'district_name']\n",
        "\n",
        "for column in columns_to_replace:\n",
        "    df[column].fillna('Unknown', inplace=True)\n",
        "\n",
        "# Verificando los cambios realizados\n",
        "df[columns_to_replace].isnull().sum()"
      ],
      "metadata": {
        "colab": {
          "base_uri": "https://localhost:8080/"
        },
        "id": "_wr2FSMTxv7s",
        "outputId": "2f99e8a6-1dd8-495b-e6ed-10147538f29f"
      },
      "execution_count": null,
      "outputs": [
        {
          "output_type": "execute_result",
          "data": {
            "text/plain": [
              "weapon_source              0\n",
              "race_ethnicity_shooter1    0\n",
              "weapon                     0\n",
              "shooter_relationship1      0\n",
              "district_name              0\n",
              "dtype: int64"
            ]
          },
          "metadata": {},
          "execution_count": 11
        }
      ]
    },
    {
      "cell_type": "code",
      "source": [
        "# Limpiando y convirtiendo a formato numérico las columnas 'staffing' y 'lunch'\n",
        "# Eliminando comas y convirtiendo a flotante\n",
        "columns_to_replace_numeric = ['staffing', 'lunch']\n",
        "\n",
        "for column in ['staffing', 'lunch']:\n",
        "    df[column] = df[column].replace(',', '', regex=True).astype(float)\n",
        "\n",
        "# Intentando nuevamente reemplazar los valores nulos\n",
        "for column in columns_to_replace_numeric:\n",
        "    if column in ['staffing', 'lunch']:\n",
        "        df[column].fillna(df[column].median(), inplace=True)\n",
        "    else:\n",
        "        df[column].fillna(df[column].mean(), inplace=True)\n",
        "\n",
        "# Verificando los cambios realizados\n",
        "df[columns_to_replace_numeric].isnull().sum()\n"
      ],
      "metadata": {
        "colab": {
          "base_uri": "https://localhost:8080/"
        },
        "id": "UfBa0gwJz9Y7",
        "outputId": "89721f63-1522-492d-d8fe-b6604513ab94"
      },
      "execution_count": null,
      "outputs": [
        {
          "output_type": "execute_result",
          "data": {
            "text/plain": [
              "staffing    0\n",
              "lunch       0\n",
              "dtype: int64"
            ]
          },
          "metadata": {},
          "execution_count": 12
        }
      ]
    },
    {
      "cell_type": "code",
      "source": [
        "# Reemplazando los valores nulos en 'staffing' y 'lunch' con la mediana\n",
        "for column in ['staffing', 'lunch']:\n",
        "    df[column].fillna(df[column].median(), inplace=True)\n",
        "\n",
        "# Verificando los cambios realizados\n",
        "df[['staffing', 'lunch']].isnull().sum()"
      ],
      "metadata": {
        "colab": {
          "base_uri": "https://localhost:8080/"
        },
        "id": "6EsUdqFrx0Ff",
        "outputId": "5292ea07-94d4-4378-cd42-d3950419bd49"
      },
      "execution_count": null,
      "outputs": [
        {
          "output_type": "execute_result",
          "data": {
            "text/plain": [
              "staffing    0\n",
              "lunch       0\n",
              "dtype: int64"
            ]
          },
          "metadata": {},
          "execution_count": 13
        }
      ]
    },
    {
      "cell_type": "markdown",
      "source": [
        "Agregar la moda a las columnas de 'low_grade' y 'high_grade'"
      ],
      "metadata": {
        "id": "Bsl6O6LT3CJ3"
      }
    },
    {
      "cell_type": "code",
      "source": [
        "# Reemplazando los valores nulos en 'low_grade' y 'high_grade' con la moda (el valor más frecuente)\n",
        "for column in ['low_grade', 'high_grade']:\n",
        "    mode_value = df[column].mode()[0]\n",
        "    df[column].fillna(mode_value, inplace=True)\n",
        "\n",
        "# Verificando los cambios realizados\n",
        "df[['low_grade', 'high_grade']].isnull().sum()"
      ],
      "metadata": {
        "colab": {
          "base_uri": "https://localhost:8080/"
        },
        "id": "VpqOPebFzW1U",
        "outputId": "56922d37-75e9-407d-8744-7cce422cebdf"
      },
      "execution_count": null,
      "outputs": [
        {
          "output_type": "execute_result",
          "data": {
            "text/plain": [
              "low_grade     0\n",
              "high_grade    0\n",
              "dtype: int64"
            ]
          },
          "metadata": {},
          "execution_count": 14
        }
      ]
    },
    {
      "cell_type": "code",
      "source": [
        "# Revisando nuevamente los valores únicos en 'low_grade' y 'high_grade'\n",
        "unique_low_grade_after = df['low_grade'].unique()\n",
        "unique_high_grade_after = df['high_grade'].unique()\n",
        "\n",
        "unique_low_grade_after, unique_high_grade_after\n"
      ],
      "metadata": {
        "colab": {
          "base_uri": "https://localhost:8080/"
        },
        "id": "2s3cBXNl0obH",
        "outputId": "7020ad3e-8bc2-47b6-ae6e-974289a5c804"
      },
      "execution_count": null,
      "outputs": [
        {
          "output_type": "execute_result",
          "data": {
            "text/plain": [
              "(array(['9', '6', 'KG', 'PK', '7', '8', '11', '3', '5', 'K', '4', '10',\n",
              "        '1'], dtype=object),\n",
              " array(['12', '8', '7', '5', '6', '4', '11', 'PK', '9', '10'], dtype=object))"
            ]
          },
          "metadata": {},
          "execution_count": 15
        }
      ]
    },
    {
      "cell_type": "code",
      "source": [
        "df['shooter_deceased1'].fillna(3, inplace = True)\n",
        "df['shooter_deceased1'].value_counts()"
      ],
      "metadata": {
        "colab": {
          "base_uri": "https://localhost:8080/"
        },
        "id": "Rvru6Da05vSY",
        "outputId": "ed438a38-b710-4ee4-d857-2327763fdc80"
      },
      "execution_count": null,
      "outputs": [
        {
          "output_type": "execute_result",
          "data": {
            "text/plain": [
              "0.0    222\n",
              "3.0    125\n",
              "1.0     40\n",
              "Name: shooter_deceased1, dtype: int64"
            ]
          },
          "metadata": {},
          "execution_count": 16
        }
      ]
    },
    {
      "cell_type": "code",
      "source": [
        "df = df.dropna(subset=['lat', 'long', 'county', 'ulocale'])"
      ],
      "metadata": {
        "id": "qNBTEyfa16S9"
      },
      "execution_count": null,
      "outputs": []
    },
    {
      "cell_type": "code",
      "source": [
        "df['gender_shooter1'].value_counts()"
      ],
      "metadata": {
        "colab": {
          "base_uri": "https://localhost:8080/"
        },
        "id": "kU77bbmL5Mk2",
        "outputId": "4d5a2298-f17b-49ab-b21e-733fa1a09f2c"
      },
      "execution_count": null,
      "outputs": [
        {
          "output_type": "execute_result",
          "data": {
            "text/plain": [
              "m    292\n",
              "f     14\n",
              "h      1\n",
              "Name: gender_shooter1, dtype: int64"
            ]
          },
          "metadata": {},
          "execution_count": 18
        }
      ]
    },
    {
      "cell_type": "code",
      "source": [
        "df['gender_shooter1'] = df['gender_shooter1'].replace('h', 'm')"
      ],
      "metadata": {
        "colab": {
          "base_uri": "https://localhost:8080/"
        },
        "id": "TRL8mP-PIC6X",
        "outputId": "78f00006-9264-4119-c639-1c07a288676c"
      },
      "execution_count": null,
      "outputs": [
        {
          "output_type": "stream",
          "name": "stderr",
          "text": [
            "<ipython-input-19-c020bce6d607>:1: SettingWithCopyWarning: \n",
            "A value is trying to be set on a copy of a slice from a DataFrame.\n",
            "Try using .loc[row_indexer,col_indexer] = value instead\n",
            "\n",
            "See the caveats in the documentation: https://pandas.pydata.org/pandas-docs/stable/user_guide/indexing.html#returning-a-view-versus-a-copy\n",
            "  df['gender_shooter1'] = df['gender_shooter1'].replace('h', 'm')\n"
          ]
        }
      ]
    },
    {
      "cell_type": "code",
      "source": [
        "df['age_shooter1'].fillna((df['age_shooter1'].mean()), inplace = True)"
      ],
      "metadata": {
        "colab": {
          "base_uri": "https://localhost:8080/"
        },
        "id": "CMqA2fRKMABZ",
        "outputId": "9efa130f-aac3-47fc-aeea-5b60efd2ee5a"
      },
      "execution_count": null,
      "outputs": [
        {
          "output_type": "stream",
          "name": "stderr",
          "text": [
            "<ipython-input-20-22ef80a3feb0>:1: SettingWithCopyWarning: \n",
            "A value is trying to be set on a copy of a slice from a DataFrame\n",
            "\n",
            "See the caveats in the documentation: https://pandas.pydata.org/pandas-docs/stable/user_guide/indexing.html#returning-a-view-versus-a-copy\n",
            "  df['age_shooter1'].fillna((df['age_shooter1'].mean()), inplace = True)\n"
          ]
        }
      ]
    },
    {
      "cell_type": "code",
      "source": [
        "df['gender_shooter1'].fillna((df['gender_shooter1'].mode()), inplace = True)"
      ],
      "metadata": {
        "colab": {
          "base_uri": "https://localhost:8080/"
        },
        "id": "R_IYQOS3Mryr",
        "outputId": "27c7d2ef-e588-49f8-c513-ad2e383ca658"
      },
      "execution_count": null,
      "outputs": [
        {
          "output_type": "stream",
          "name": "stderr",
          "text": [
            "<ipython-input-21-0c2a321f4104>:1: SettingWithCopyWarning: \n",
            "A value is trying to be set on a copy of a slice from a DataFrame\n",
            "\n",
            "See the caveats in the documentation: https://pandas.pydata.org/pandas-docs/stable/user_guide/indexing.html#returning-a-view-versus-a-copy\n",
            "  df['gender_shooter1'].fillna((df['gender_shooter1'].mode()), inplace = True)\n"
          ]
        }
      ]
    },
    {
      "cell_type": "code",
      "source": [
        "df['time'] = pd.to_datetime(df['time']).dt.time"
      ],
      "metadata": {
        "id": "FIcZ_6yX_kIQ"
      },
      "execution_count": null,
      "outputs": []
    },
    {
      "cell_type": "code",
      "source": [
        "df['race_ethnicity_shooter1'] = df['race_ethnicity_shooter1'].replace('Hispanic', 'h')\n",
        "df['race_ethnicity_shooter1'] = df['race_ethnicity_shooter1'].replace('m', 'Unknown')\n",
        "df['race_ethnicity_shooter1'] = df['race_ethnicity_shooter1'].replace('n', 'Unknown')"
      ],
      "metadata": {
        "id": "XKKqocr2wwIV"
      },
      "execution_count": null,
      "outputs": []
    },
    {
      "cell_type": "code",
      "source": [
        "df['age_shooter1'] = df['age_shooter1'].apply(lambda x: int(round(x)))\n"
      ],
      "metadata": {
        "id": "HFt6X2MslFSh"
      },
      "execution_count": null,
      "outputs": []
    },
    {
      "cell_type": "code",
      "source": [
        "df.info()"
      ],
      "metadata": {
        "colab": {
          "base_uri": "https://localhost:8080/"
        },
        "id": "l0XcuxDd3LE9",
        "outputId": "e9343f18-2b31-43e2-e79e-f14d042070f7"
      },
      "execution_count": null,
      "outputs": [
        {
          "output_type": "stream",
          "name": "stdout",
          "text": [
            "<class 'pandas.core.frame.DataFrame'>\n",
            "Int64Index: 383 entries, 0 to 386\n",
            "Data columns (total 32 columns):\n",
            " #   Column                   Non-Null Count  Dtype  \n",
            "---  ------                   --------------  -----  \n",
            " 0   school_name              383 non-null    object \n",
            " 1   district_name            383 non-null    object \n",
            " 2   date                     383 non-null    object \n",
            " 3   school_year              383 non-null    object \n",
            " 4   year                     383 non-null    int64  \n",
            " 5   time                     359 non-null    object \n",
            " 6   day_of_week              383 non-null    object \n",
            " 7   city                     383 non-null    object \n",
            " 8   state                    383 non-null    object \n",
            " 9   school_type              383 non-null    object \n",
            " 10  enrollment               383 non-null    object \n",
            " 11  killed                   383 non-null    int64  \n",
            " 12  injured                  383 non-null    int64  \n",
            " 13  casualties               383 non-null    int64  \n",
            " 14  shooting_type            383 non-null    object \n",
            " 15  age_shooter1             383 non-null    int64  \n",
            " 16  gender_shooter1          307 non-null    object \n",
            " 17  race_ethnicity_shooter1  383 non-null    object \n",
            " 18  shooter_relationship1    383 non-null    object \n",
            " 19  shooter_deceased1        383 non-null    float64\n",
            " 20  resource_officer         383 non-null    int64  \n",
            " 21  weapon                   383 non-null    object \n",
            " 22  weapon_source            383 non-null    object \n",
            " 23  lat                      383 non-null    float64\n",
            " 24  long                     383 non-null    float64\n",
            " 25  staffing                 383 non-null    float64\n",
            " 26  low_grade                383 non-null    object \n",
            " 27  high_grade               383 non-null    object \n",
            " 28  lunch                    383 non-null    float64\n",
            " 29  county                   383 non-null    object \n",
            " 30  ulocale                  383 non-null    float64\n",
            " 31  presence_second_shooter  383 non-null    int64  \n",
            "dtypes: float64(6), int64(7), object(19)\n",
            "memory usage: 98.7+ KB\n"
          ]
        }
      ]
    },
    {
      "cell_type": "code",
      "source": [
        "# Guardar el DataFrame en un archivo CSV\n",
        "# df.to_csv('/content/drive/MyDrive/M.S. Data Science/Visual Analytics/Final Project/datasets/clean_FINAL.csv', index=False)"
      ],
      "metadata": {
        "id": "q8V8GU2MwoYg"
      },
      "execution_count": null,
      "outputs": []
    },
    {
      "cell_type": "markdown",
      "source": [
        "VERIFICAR QUE LA INFORMACIÓN ESTÉ BIEN EN LOS GRÁFICOS"
      ],
      "metadata": {
        "id": "6w_BfA3AS8Zk"
      }
    },
    {
      "cell_type": "code",
      "source": [
        "df.info()"
      ],
      "metadata": {
        "colab": {
          "base_uri": "https://localhost:8080/"
        },
        "id": "UvpRae2DTHI3",
        "outputId": "894b9784-0198-4111-c45a-50382b7eb497"
      },
      "execution_count": null,
      "outputs": [
        {
          "output_type": "stream",
          "name": "stdout",
          "text": [
            "<class 'pandas.core.frame.DataFrame'>\n",
            "Int64Index: 383 entries, 0 to 386\n",
            "Data columns (total 32 columns):\n",
            " #   Column                   Non-Null Count  Dtype  \n",
            "---  ------                   --------------  -----  \n",
            " 0   school_name              383 non-null    object \n",
            " 1   district_name            383 non-null    object \n",
            " 2   date                     383 non-null    object \n",
            " 3   school_year              383 non-null    object \n",
            " 4   year                     383 non-null    int64  \n",
            " 5   time                     359 non-null    object \n",
            " 6   day_of_week              383 non-null    object \n",
            " 7   city                     383 non-null    object \n",
            " 8   state                    383 non-null    object \n",
            " 9   school_type              383 non-null    object \n",
            " 10  enrollment               383 non-null    object \n",
            " 11  killed                   383 non-null    int64  \n",
            " 12  injured                  383 non-null    int64  \n",
            " 13  casualties               383 non-null    int64  \n",
            " 14  shooting_type            383 non-null    object \n",
            " 15  age_shooter1             383 non-null    int64  \n",
            " 16  gender_shooter1          307 non-null    object \n",
            " 17  race_ethnicity_shooter1  383 non-null    object \n",
            " 18  shooter_relationship1    383 non-null    object \n",
            " 19  shooter_deceased1        383 non-null    float64\n",
            " 20  resource_officer         383 non-null    int64  \n",
            " 21  weapon                   383 non-null    object \n",
            " 22  weapon_source            383 non-null    object \n",
            " 23  lat                      383 non-null    float64\n",
            " 24  long                     383 non-null    float64\n",
            " 25  staffing                 383 non-null    float64\n",
            " 26  low_grade                383 non-null    object \n",
            " 27  high_grade               383 non-null    object \n",
            " 28  lunch                    383 non-null    float64\n",
            " 29  county                   383 non-null    object \n",
            " 30  ulocale                  383 non-null    float64\n",
            " 31  presence_second_shooter  383 non-null    int64  \n",
            "dtypes: float64(6), int64(7), object(19)\n",
            "memory usage: 98.7+ KB\n"
          ]
        }
      ]
    },
    {
      "cell_type": "code",
      "source": [
        "# Calcular el total de incidentes por ciudad para ver la ciudad más propensa a estos incidentes\n",
        "df['city'].value_counts()"
      ],
      "metadata": {
        "colab": {
          "base_uri": "https://localhost:8080/"
        },
        "id": "u2KQuC4bTMyI",
        "outputId": "bf4b589f-451d-4a15-a92d-0bcaa8971da4"
      },
      "execution_count": null,
      "outputs": [
        {
          "output_type": "execute_result",
          "data": {
            "text/plain": [
              "Chicago         8\n",
              "Los Angeles     8\n",
              "Philadelphia    7\n",
              "Baltimore       6\n",
              "Washington      6\n",
              "               ..\n",
              "Fort Myers      1\n",
              "Taft            1\n",
              "Homestead       1\n",
              "Pine Hills      1\n",
              "Warren          1\n",
              "Name: city, Length: 286, dtype: int64"
            ]
          },
          "metadata": {},
          "execution_count": 28
        }
      ]
    },
    {
      "cell_type": "code",
      "source": [
        "df['state'].value_counts()"
      ],
      "metadata": {
        "colab": {
          "base_uri": "https://localhost:8080/"
        },
        "id": "BIHp-zZKebsZ",
        "outputId": "038513bf-fbd8-4540-d7c6-e126f7c0aff4"
      },
      "execution_count": null,
      "outputs": [
        {
          "output_type": "execute_result",
          "data": {
            "text/plain": [
              "California              40\n",
              "Texas                   25\n",
              "Florida                 24\n",
              "North Carolina          21\n",
              "Michigan                16\n",
              "Pennsylvania            16\n",
              "Illinois                16\n",
              "Alabama                 15\n",
              "Ohio                    14\n",
              "Tennessee               14\n",
              "Louisiana               13\n",
              "Georgia                 12\n",
              "New York                11\n",
              "Maryland                10\n",
              "Colorado                 9\n",
              "Washington               9\n",
              "Virginia                 9\n",
              "South Carolina           9\n",
              "Indiana                  8\n",
              "New Mexico               7\n",
              "Minnesota                7\n",
              "Wisconsin                6\n",
              "Oregon                   6\n",
              "District of Columbia     6\n",
              "Missouri                 6\n",
              "Mississippi              6\n",
              "Nevada                   5\n",
              "Arkansas                 5\n",
              "Oklahoma                 4\n",
              "Utah                     4\n",
              "Arizona                  4\n",
              "Connecticut              4\n",
              "Kentucky                 3\n",
              "Massachusetts            3\n",
              "Delaware                 2\n",
              "Kansas                   2\n",
              "New Jersey               2\n",
              "Idaho                    1\n",
              "Iowa                     1\n",
              "Alaska                   1\n",
              "Rhode Island             1\n",
              "New Hampshire            1\n",
              "Montana                  1\n",
              "South Dakota             1\n",
              "Hawaii                   1\n",
              "Nebraska                 1\n",
              "North Dakota             1\n",
              "Name: state, dtype: int64"
            ]
          },
          "metadata": {},
          "execution_count": 29
        }
      ]
    },
    {
      "cell_type": "code",
      "source": [
        "df['age_shooter1'].mean()"
      ],
      "metadata": {
        "colab": {
          "base_uri": "https://localhost:8080/"
        },
        "id": "D9I-336MqVs2",
        "outputId": "844a9c45-7e4c-4c0b-a13e-3b82e445bedb"
      },
      "execution_count": null,
      "outputs": [
        {
          "output_type": "execute_result",
          "data": {
            "text/plain": [
              "19.138381201044385"
            ]
          },
          "metadata": {},
          "execution_count": 30
        }
      ]
    },
    {
      "cell_type": "code",
      "source": [
        "df['race_ethnicity_shooter1'].value_counts()"
      ],
      "metadata": {
        "colab": {
          "base_uri": "https://localhost:8080/"
        },
        "id": "qnaiqj7iwoqZ",
        "outputId": "d0408a61-9a67-4631-ff3a-2af745bd5559"
      },
      "execution_count": null,
      "outputs": [
        {
          "output_type": "execute_result",
          "data": {
            "text/plain": [
              "Unknown    240\n",
              "w           71\n",
              "b           60\n",
              "h            9\n",
              "ai           2\n",
              "a            1\n",
              "Name: race_ethnicity_shooter1, dtype: int64"
            ]
          },
          "metadata": {},
          "execution_count": 31
        }
      ]
    },
    {
      "cell_type": "code",
      "source": [
        "df['shooting_type'].value_counts()"
      ],
      "metadata": {
        "colab": {
          "base_uri": "https://localhost:8080/"
        },
        "id": "BxmBlsppdd-C",
        "outputId": "dc41bd8f-b743-4b07-e782-aef9c9d97597"
      },
      "execution_count": null,
      "outputs": [
        {
          "output_type": "execute_result",
          "data": {
            "text/plain": [
              "targeted                       220\n",
              "indiscriminate                  63\n",
              "accidental                      51\n",
              "unclear                         29\n",
              "public suicide                   8\n",
              "targeted and indiscriminate      6\n",
              "accidental or targeted           2\n",
              "hostage suicide                  2\n",
              "public suicide (attempted)       1\n",
              "suicide                          1\n",
              "Name: shooting_type, dtype: int64"
            ]
          },
          "metadata": {},
          "execution_count": 36
        }
      ]
    },
    {
      "cell_type": "code",
      "source": [
        "df['age_shooter1'].value_counts()"
      ],
      "metadata": {
        "colab": {
          "base_uri": "https://localhost:8080/"
        },
        "id": "e-6Hu0Qakubo",
        "outputId": "e102c14b-844d-440b-c949-615e73f57c43"
      },
      "execution_count": null,
      "outputs": [
        {
          "output_type": "execute_result",
          "data": {
            "text/plain": [
              "19    126\n",
              "15     48\n",
              "16     39\n",
              "17     36\n",
              "14     31\n",
              "18     18\n",
              "13     11\n",
              "12      9\n",
              "28      6\n",
              "20      5\n",
              "21      4\n",
              "8       3\n",
              "53      3\n",
              "6       3\n",
              "22      3\n",
              "25      2\n",
              "44      2\n",
              "32      2\n",
              "38      2\n",
              "26      2\n",
              "45      2\n",
              "23      2\n",
              "47      2\n",
              "41      2\n",
              "30      2\n",
              "11      2\n",
              "34      1\n",
              "72      1\n",
              "55      1\n",
              "29      1\n",
              "54      1\n",
              "24      1\n",
              "56      1\n",
              "7       1\n",
              "50      1\n",
              "48      1\n",
              "42      1\n",
              "49      1\n",
              "9       1\n",
              "39      1\n",
              "33      1\n",
              "27      1\n",
              "Name: age_shooter1, dtype: int64"
            ]
          },
          "metadata": {},
          "execution_count": 32
        }
      ]
    },
    {
      "cell_type": "code",
      "source": [
        "df['year'].value_counts()"
      ],
      "metadata": {
        "colab": {
          "base_uri": "https://localhost:8080/"
        },
        "id": "a5rd2aD67Hvo",
        "outputId": "3a65945d-86a9-401c-8655-81718ff72c1c"
      },
      "execution_count": null,
      "outputs": [
        {
          "output_type": "execute_result",
          "data": {
            "text/plain": [
              "2022    46\n",
              "2021    41\n",
              "2018    30\n",
              "2023    28\n",
              "2019    26\n",
              "2014    16\n",
              "2017    15\n",
              "2006    14\n",
              "2005    13\n",
              "2013    13\n",
              "2016    13\n",
              "2001    13\n",
              "2000    12\n",
              "2003    12\n",
              "2012    11\n",
              "2007    10\n",
              "2004     9\n",
              "2020     9\n",
              "2010     9\n",
              "2009     9\n",
              "2008     8\n",
              "1999     7\n",
              "2015     7\n",
              "2011     7\n",
              "2002     5\n",
              "Name: year, dtype: int64"
            ]
          },
          "metadata": {},
          "execution_count": 33
        }
      ]
    },
    {
      "cell_type": "code",
      "source": [
        "df.groupby('year')['casualties'].sum()"
      ],
      "metadata": {
        "colab": {
          "base_uri": "https://localhost:8080/"
        },
        "id": "s_y1UxD20efs",
        "outputId": "653d5830-5a2a-46ae-fd09-e9b8bf6f037a"
      },
      "execution_count": null,
      "outputs": [
        {
          "output_type": "execute_result",
          "data": {
            "text/plain": [
              "year\n",
              "1999    49\n",
              "2000     7\n",
              "2001    27\n",
              "2002     8\n",
              "2003    13\n",
              "2004    12\n",
              "2005    26\n",
              "2006    15\n",
              "2007    18\n",
              "2008     8\n",
              "2009     5\n",
              "2010     9\n",
              "2011    11\n",
              "2012    40\n",
              "2013    16\n",
              "2014    20\n",
              "2015     2\n",
              "2016    20\n",
              "2017    21\n",
              "2018    95\n",
              "2019    24\n",
              "2020     6\n",
              "2021    45\n",
              "2022    90\n",
              "2023    29\n",
              "Name: casualties, dtype: int64"
            ]
          },
          "metadata": {},
          "execution_count": 34
        }
      ]
    },
    {
      "cell_type": "code",
      "source": [
        "df.groupby('year')['killed'].sum()"
      ],
      "metadata": {
        "colab": {
          "base_uri": "https://localhost:8080/"
        },
        "id": "D0l7gwzi6ooF",
        "outputId": "1e662fe9-d1d3-4c0b-c477-fd7e4b4c13e8"
      },
      "execution_count": null,
      "outputs": [
        {
          "output_type": "execute_result",
          "data": {
            "text/plain": [
              "year\n",
              "1999    14\n",
              "2000     4\n",
              "2001     5\n",
              "2002     1\n",
              "2003     5\n",
              "2004     3\n",
              "2005     9\n",
              "2006     4\n",
              "2007     1\n",
              "2008     4\n",
              "2009     1\n",
              "2010     3\n",
              "2011     2\n",
              "2012    32\n",
              "2013     3\n",
              "2014     6\n",
              "2015     0\n",
              "2016     2\n",
              "2017     5\n",
              "2018    33\n",
              "2019     4\n",
              "2020     1\n",
              "2021     9\n",
              "2022    34\n",
              "2023    10\n",
              "Name: killed, dtype: int64"
            ]
          },
          "metadata": {},
          "execution_count": 35
        }
      ]
    }
  ]
}